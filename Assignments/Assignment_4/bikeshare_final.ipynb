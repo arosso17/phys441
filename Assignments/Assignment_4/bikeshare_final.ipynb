{
 "cells": [
  {
   "cell_type": "markdown",
   "id": "victorian-latitude",
   "metadata": {},
   "source": [
    "# Bike Share System"
   ]
  },
  {
   "cell_type": "markdown",
   "id": "imported-table",
   "metadata": {
    "tags": []
   },
   "source": [
    "*Modeling and Simulation in Python*\n",
    "\n",
    "Copyright 2021 Allen Downey\n",
    "\n",
    "License: [Creative Commons Attribution-NonCommercial-ShareAlike 4.0 International](https://creativecommons.org/licenses/by-nc-sa/4.0/)"
   ]
  },
  {
   "cell_type": "code",
   "execution_count": 1,
   "id": "electoral-turkey",
   "metadata": {
    "tags": [],
    "ExecuteTime": {
     "end_time": "2023-11-08T01:51:23.236964600Z",
     "start_time": "2023-11-08T01:51:22.292048600Z"
    }
   },
   "outputs": [],
   "source": [
    "# import functions from modsim\n",
    "from modsim import *"
   ]
  },
  {
   "cell_type": "code",
   "execution_count": 2,
   "id": "formal-context",
   "metadata": {
    "tags": [],
    "ExecuteTime": {
     "end_time": "2023-11-08T01:51:23.238738500Z",
     "start_time": "2023-11-08T01:51:23.236964600Z"
    }
   },
   "outputs": [],
   "source": [
    "def step(state, p12, p13, p21, p23, p31, p32):\n",
    "    if flip(p12):\n",
    "        b12(state)\n",
    "    \n",
    "    if flip(p13):\n",
    "        b13(state)\n",
    "        \n",
    "    if flip(p21):\n",
    "        b21(state)\n",
    "    \n",
    "    if flip(p23):\n",
    "        b23(state)\n",
    "        \n",
    "    if flip(p32):\n",
    "        b32(state)\n",
    "    \n",
    "    if flip(p31):\n",
    "        b31(state)\n",
    "        \n",
    "def b12(state):\n",
    "    if state.b1 == 0:\n",
    "        state.b1_empty += 1\n",
    "        return\n",
    "    state.b1 -= 1\n",
    "    state.b2 += 1\n",
    "    \n",
    "def b13(state):\n",
    "    if state.b1 == 0:\n",
    "        state.b1_empty += 1\n",
    "        return\n",
    "    state.b1 -= 1\n",
    "    state.b3 += 1\n",
    "    \n",
    "def b21(state):\n",
    "    if state.b2 == 0:\n",
    "        state.b2_empty += 1\n",
    "        return\n",
    "    state.b2 -= 1\n",
    "    state.b1 += 1\n",
    "    \n",
    "def b23(state):\n",
    "    if state.b2 == 0:\n",
    "        state.b2_empty += 1\n",
    "        return\n",
    "    state.b2 -= 1\n",
    "    state.b3 += 1\n",
    "    \n",
    "def b32(state):\n",
    "    if state.b3 == 0:\n",
    "        state.b3_empty += 1\n",
    "        return\n",
    "    state.b3 -= 1\n",
    "    state.b2 += 1\n",
    "    \n",
    "def b31(state):\n",
    "    if state.b3 == 0:\n",
    "        state.b3_empty += 1\n",
    "        return\n",
    "    state.b3 -= 1\n",
    "    state.b1 += 1"
   ]
  },
  {
   "cell_type": "code",
   "execution_count": 3,
   "id": "progressive-typing",
   "metadata": {
    "tags": [],
    "ExecuteTime": {
     "end_time": "2023-11-08T01:51:23.239743Z",
     "start_time": "2023-11-08T01:51:23.238738500Z"
    }
   },
   "outputs": [],
   "source": [
    "def run_simulation(state, p12, p13, p21, p23, p31, p32, num_steps, do_plot=True):\n",
    "\n",
    "    results_1 = TimeSeries()\n",
    "    results_1[0] = state.b1\n",
    "    results_2 = TimeSeries()\n",
    "    results_2[0] = state.b2\n",
    "    results_3 = TimeSeries()\n",
    "    results_3[0] = state.b3\n",
    "    results_1_unsatisfied = TimeSeries()\n",
    "    results_1_unsatisfied[0] = state.b1_empty\n",
    "    results_2_unsatisfied = TimeSeries()\n",
    "    results_2_unsatisfied[0] = state.b2_empty\n",
    "    results_3_unsatisfied = TimeSeries()\n",
    "    results_3_unsatisfied[0] = state.b3_empty\n",
    "    \n",
    "    for i in range(num_steps):\n",
    "        step(state, p12, p13, p21, p23, p31, p32)\n",
    "        results_1[i+1] = state.b1\n",
    "        results_2[i+1] = state.b2\n",
    "        results_3[i+1] = state.b3\n",
    "        results_1_unsatisfied[i+1] = state.b1_empty\n",
    "        results_2_unsatisfied[i+1] = state.b2_empty\n",
    "        results_3_unsatisfied[i+1] = state.b3_empty\n",
    "        \n",
    "    if (do_plot):\n",
    "        fig, ax = plt.subplots(1,2,figsize=(12,6))\n",
    "        ax[0].plot(results_1, label='b1')\n",
    "        ax[0].plot(results_2, label='b2')\n",
    "        ax[0].plot(results_3, label='b3')\n",
    "        ax[0].set_xlabel('Time step (min)')\n",
    "        ax[0].set_ylabel('Number of bikes')\n",
    "        ax[0].legend()\n",
    "        ax[1].plot(results_1_unsatisfied, label='b1_u')\n",
    "        ax[1].plot(results_2_unsatisfied, label='b2_u')\n",
    "        ax[1].plot(results_3_unsatisfied, label='b3_u')\n",
    "        ax[1].set_xlabel('Time step (min)')\n",
    "        ax[1].set_ylabel('Number of unsatisfied customers')\n",
    "        ax[1].legend()\n",
    "        plt.show()\n",
    "    \n",
    "    return results_1_unsatisfied[num_steps-1] + results_2_unsatisfied[num_steps-1] + results_3_unsatisfied[num_steps-1]"
   ]
  },
  {
   "cell_type": "code",
   "execution_count": 79,
   "outputs": [
    {
     "name": "stdout",
     "output_type": "stream",
     "text": [
      "72 19 9\n",
      "Average unsatisfied customers:  7.9\n",
      "72 20 8\n",
      "Average unsatisfied customers:  10.6\n",
      "72 21 7\n",
      "Average unsatisfied customers:  8.1\n",
      "72 22 6\n",
      "Average unsatisfied customers:  12.8\n",
      "72 23 5\n",
      "Average unsatisfied customers:  5.1\n",
      "72 24 4\n",
      "Average unsatisfied customers:  8.8\n",
      "72 25 3\n",
      "Average unsatisfied customers:  4.6\n",
      "72 26 2\n",
      "Average unsatisfied customers:  9.5\n",
      "72 27 1\n",
      "Average unsatisfied customers:  5.3\n",
      "72 28 0\n",
      "Average unsatisfied customers:  6.5\n",
      "73 18 9\n",
      "Average unsatisfied customers:  13.5\n",
      "73 19 8\n",
      "Average unsatisfied customers:  10.8\n",
      "73 20 7\n",
      "Average unsatisfied customers:  9.9\n",
      "73 21 6\n",
      "Average unsatisfied customers:  6.1\n",
      "73 22 5\n",
      "Average unsatisfied customers:  10.2\n",
      "73 23 4\n",
      "Average unsatisfied customers:  8.6\n",
      "73 24 3\n",
      "Average unsatisfied customers:  5.9\n",
      "73 25 2\n",
      "Average unsatisfied customers:  8.8\n",
      "73 26 1\n",
      "Average unsatisfied customers:  7.0\n",
      "73 27 0\n",
      "Average unsatisfied customers:  6.8\n",
      "74 17 9\n",
      "Average unsatisfied customers:  10.3\n",
      "74 18 8\n",
      "Average unsatisfied customers:  8.0\n",
      "74 19 7\n",
      "Average unsatisfied customers:  14.1\n",
      "74 20 6\n",
      "Average unsatisfied customers:  7.9\n",
      "74 21 5\n",
      "Average unsatisfied customers:  7.2\n",
      "74 22 4\n",
      "Average unsatisfied customers:  5.8\n",
      "74 23 3\n",
      "Average unsatisfied customers:  4.6\n",
      "74 24 2\n",
      "Average unsatisfied customers:  7.3\n",
      "74 25 1\n",
      "Average unsatisfied customers:  8.4\n",
      "74 26 0\n",
      "Average unsatisfied customers:  7.8\n",
      "75 16 9\n",
      "Average unsatisfied customers:  8.5\n",
      "75 17 8\n",
      "Average unsatisfied customers:  15.2\n",
      "75 18 7\n",
      "Average unsatisfied customers:  8.0\n",
      "75 19 6\n",
      "Average unsatisfied customers:  11.7\n",
      "75 20 5\n",
      "Average unsatisfied customers:  8.6\n",
      "75 21 4\n",
      "Average unsatisfied customers:  6.9\n",
      "75 22 3\n",
      "Average unsatisfied customers:  3.3\n",
      "75 23 2\n",
      "Average unsatisfied customers:  5.5\n",
      "75 24 1\n",
      "Average unsatisfied customers:  8.2\n",
      "75 25 0\n",
      "Average unsatisfied customers:  6.8\n",
      "76 15 9\n",
      "Average unsatisfied customers:  19.2\n",
      "76 16 8\n",
      "Average unsatisfied customers:  9.7\n",
      "76 17 7\n",
      "Average unsatisfied customers:  11.1\n",
      "76 18 6\n",
      "Average unsatisfied customers:  6.5\n",
      "76 19 5\n",
      "Average unsatisfied customers:  7.0\n",
      "76 20 4\n",
      "Average unsatisfied customers:  7.9\n",
      "76 21 3\n",
      "Average unsatisfied customers:  3.4\n",
      "76 22 2\n",
      "Average unsatisfied customers:  4.2\n",
      "76 23 1\n",
      "Average unsatisfied customers:  5.7\n",
      "76 24 0\n",
      "Average unsatisfied customers:  5.2\n",
      "77 14 9\n",
      "Average unsatisfied customers:  11.4\n",
      "77 15 8\n",
      "Average unsatisfied customers:  16.1\n",
      "77 16 7\n",
      "Average unsatisfied customers:  8.6\n",
      "77 17 6\n",
      "Average unsatisfied customers:  11.1\n",
      "77 18 5\n",
      "Average unsatisfied customers:  7.2\n",
      "77 19 4\n",
      "Average unsatisfied customers:  7.2\n",
      "77 20 3\n",
      "Average unsatisfied customers:  4.1\n",
      "77 21 2\n",
      "Average unsatisfied customers:  5.9\n",
      "77 22 1\n",
      "Average unsatisfied customers:  5.7\n",
      "77 23 0\n",
      "Average unsatisfied customers:  4.6\n",
      "78 13 9\n",
      "Average unsatisfied customers:  10.4\n",
      "78 14 8\n",
      "Average unsatisfied customers:  19.6\n",
      "78 15 7\n",
      "Average unsatisfied customers:  9.8\n",
      "78 16 6\n",
      "Average unsatisfied customers:  9.9\n",
      "78 17 5\n",
      "Average unsatisfied customers:  10.8\n",
      "78 18 4\n",
      "Average unsatisfied customers:  10.5\n",
      "78 19 3\n",
      "Average unsatisfied customers:  4.9\n",
      "78 20 2\n",
      "Average unsatisfied customers:  8.1\n",
      "78 21 1\n",
      "Average unsatisfied customers:  3.6\n",
      "78 22 0\n",
      "Average unsatisfied customers:  5.8\n",
      "79 12 9\n",
      "Average unsatisfied customers:  12.9\n",
      "79 13 8\n",
      "Average unsatisfied customers:  10.1\n",
      "79 14 7\n",
      "Average unsatisfied customers:  9.0\n",
      "79 15 6\n",
      "Average unsatisfied customers:  9.7\n",
      "79 16 5\n",
      "Average unsatisfied customers:  11.0\n",
      "79 17 4\n",
      "Average unsatisfied customers:  5.8\n",
      "79 18 3\n",
      "Average unsatisfied customers:  8.3\n",
      "79 19 2\n",
      "Average unsatisfied customers:  7.7\n",
      "79 20 1\n",
      "Average unsatisfied customers:  4.1\n",
      "79 21 0\n",
      "Average unsatisfied customers:  5.6\n",
      "80 11 9\n",
      "Average unsatisfied customers:  9.4\n",
      "80 12 8\n",
      "Average unsatisfied customers:  8.9\n",
      "80 13 7\n",
      "Average unsatisfied customers:  8.5\n",
      "80 14 6\n",
      "Average unsatisfied customers:  15.5\n",
      "80 15 5\n",
      "Average unsatisfied customers:  8.8\n",
      "80 16 4\n",
      "Average unsatisfied customers:  10.6\n",
      "80 17 3\n",
      "Average unsatisfied customers:  10.8\n",
      "80 18 2\n",
      "Average unsatisfied customers:  7.8\n",
      "80 19 1\n",
      "Average unsatisfied customers:  8.6\n",
      "80 20 0\n",
      "Average unsatisfied customers:  4.1\n",
      "81 10 9\n",
      "Average unsatisfied customers:  12.1\n",
      "81 11 8\n",
      "Average unsatisfied customers:  13.1\n",
      "81 12 7\n",
      "Average unsatisfied customers:  11.8\n",
      "81 13 6\n",
      "Average unsatisfied customers:  11.9\n",
      "81 14 5\n",
      "Average unsatisfied customers:  10.0\n",
      "81 15 4\n",
      "Average unsatisfied customers:  4.5\n",
      "81 16 3\n",
      "Average unsatisfied customers:  10.0\n",
      "81 17 2\n",
      "Average unsatisfied customers:  6.1\n",
      "81 18 1\n",
      "Average unsatisfied customers:  9.1\n",
      "81 19 0\n",
      "Average unsatisfied customers:  8.4\n"
     ]
    }
   ],
   "source": [
    "p12 = 0.3\n",
    "p13 = 0.4\n",
    "p21 = 0.2\n",
    "p23 = 0.35\n",
    "p32 = 0.15\n",
    "p31 = 0.1\n",
    "\n",
    "N_slots = 100\n",
    "\n",
    "nstart1 = []\n",
    "nstart2 = []\n",
    "nstart3 = []\n",
    "tu_avg = []\n",
    "\n",
    "cords = np.ndarray((10, 10))\n",
    "\n",
    "num_sims = 10\n",
    "n1 = 0\n",
    "n2 = 0\n",
    "for N_start_1 in range(72, 72 + 10):\n",
    "    \n",
    "    for N_start_2 in range(N_slots - N_start_1 + 1 - 10, N_slots - N_start_1 + 1):\n",
    "        nstart1.append(N_start_1)\n",
    "        nstart2.append(N_start_2)\n",
    "        N_start_3 = N_slots - N_start_1 - N_start_2\n",
    "        nstart2.append(N_start_3)\n",
    "    \n",
    "        print(N_start_1, N_start_2, N_start_3)\n",
    "    \n",
    "        tu_sum = 0\n",
    "        \n",
    "        for j in range(num_sims):\n",
    "            bikeshare = State(b1=N_start_1, b2=N_start_2, b3=N_start_3,\n",
    "                      b1_empty=0, b2_empty=0, b3_empty=0)\n",
    "            do_plot = False\n",
    "            total_unsatisfied = run_simulation(bikeshare, p12, p13, p21, p23, p31, p32, 180, do_plot)\n",
    "    \n",
    "            #print(\"Total unsatisfied customers: \", j, total_unsatisfied)\n",
    "            tu_sum += total_unsatisfied\n",
    "        \n",
    "        print(\"Average unsatisfied customers: \", tu_sum/(1.0*num_sims))\n",
    "        tu_avg.append(tu_sum/(1.0*num_sims))\n",
    "        cords[n1][n2] = tu_avg[-1]\n",
    "        n2 += 1 \n",
    "    n1 += 1\n",
    "    n2 = 0\n",
    "    \n"
   ],
   "metadata": {
    "collapsed": false,
    "ExecuteTime": {
     "end_time": "2023-11-08T03:04:00.022651300Z",
     "start_time": "2023-11-08T03:01:11.041419800Z"
    }
   },
   "id": "760647dfb2ea5d9f"
  },
  {
   "cell_type": "code",
   "execution_count": 80,
   "outputs": [
    {
     "data": {
      "text/plain": "<matplotlib.legend.Legend at 0x21615bf7550>"
     },
     "execution_count": 80,
     "metadata": {},
     "output_type": "execute_result"
    },
    {
     "data": {
      "text/plain": "<Figure size 600x600 with 1 Axes>",
      "image/png": "[encoded data removed]"
     },
     "metadata": {},
     "output_type": "display_data"
    }
   ],
   "source": [
    "tu_avg_error = 0.1*np.array(tu_avg)\n",
    "\n",
    "fig, ax = plt.subplots(1,1,figsize=(8,8))\n",
    "ax.errorbar(nstart1, tu_avg, tu_avg_error, label='Average unsatisfied customers')\n",
    "ax.set_xlabel('Number of starting bikes at 1')\n",
    "ax.set_ylabel('Average number of unsatisfied customers')\n",
    "ax.legend()"
   ],
   "metadata": {
    "collapsed": false,
    "ExecuteTime": {
     "end_time": "2023-11-08T03:04:52.629301700Z",
     "start_time": "2023-11-08T03:04:52.523647300Z"
    }
   },
   "id": "5cdc15f29e14c6d1"
  },
  {
   "cell_type": "code",
   "execution_count": 81,
   "outputs": [
    {
     "data": {
      "text/plain": "<Figure size 675x450 with 1 Axes>",
      "image/png": "[encoded data removed]"
     },
     "metadata": {},
     "output_type": "display_data"
    }
   ],
   "source": [
    "\n",
    "plt.imshow(cords ** 10, cmap=\"bone\")\n",
    "plt.show()"
   ],
   "metadata": {
    "collapsed": false,
    "ExecuteTime": {
     "end_time": "2023-11-08T03:04:54.836812500Z",
     "start_time": "2023-11-08T03:04:54.769354Z"
    }
   },
   "id": "9c2ef8f0c1c32f7"
  },
  {
   "cell_type": "code",
   "execution_count": 87,
   "outputs": [
    {
     "name": "stdout",
     "output_type": "stream",
     "text": [
      "3.3\n",
      "(array([3], dtype=int64), array([6], dtype=int64))\n",
      "[3.3]\n"
     ]
    }
   ],
   "source": [
    "print(min(cords.flatten()))\n",
    "print(np.where(cords == min(cords.flatten())))\n",
    "print(cords[np.where(cords == min(cords.flatten()))])"
   ],
   "metadata": {
    "collapsed": false,
    "ExecuteTime": {
     "end_time": "2023-11-08T03:26:47.000252300Z",
     "start_time": "2023-11-08T03:26:46.977717700Z"
    }
   },
   "id": "87f6fdfefec2933f"
  },
  {
   "cell_type": "markdown",
   "source": [
    "75, 22, 3 gives 3.3 unsatified on average which was the minimum for this run. \n",
    "\n",
    "While the exact configuration varys with each run, it is always more than 70 bikes at the first location, most of the rest at the second location, and a couple if any at the third location."
   ],
   "metadata": {
    "collapsed": false
   },
   "id": "2d6b97be231fdc52"
  },
  {
   "cell_type": "code",
   "execution_count": null,
   "outputs": [],
   "source": [],
   "metadata": {
    "collapsed": false
   },
   "id": "b16f2d90171cd68f"
  }
 ],
 "metadata": {
  "celltoolbar": "Tags",
  "kernelspec": {
   "display_name": "Python 3 (ipykernel)",
   "language": "python",
   "name": "python3"
  },
  "language_info": {
   "codemirror_mode": {
    "name": "ipython",
    "version": 3
   },
   "file_extension": ".py",
   "mimetype": "text/x-python",
   "name": "python",
   "nbconvert_exporter": "python",
   "pygments_lexer": "ipython3",
   "version": "3.10.6"
  }
 },
 "nbformat": 4,
 "nbformat_minor": 5
}
