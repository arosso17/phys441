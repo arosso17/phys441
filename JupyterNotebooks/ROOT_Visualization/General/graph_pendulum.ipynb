{
 "cells": [
  {
   "cell_type": "code",
   "execution_count": 1,
   "metadata": {
    "ExecuteTime": {
     "end_time": "2023-09-26T02:38:31.478413200Z",
     "start_time": "2023-09-26T02:38:31.174602400Z"
    }
   },
   "outputs": [
    {
     "ename": "ModuleNotFoundError",
     "evalue": "No module named 'P201_Functions'",
     "output_type": "error",
     "traceback": [
      "\u001B[1;31m---------------------------------------------------------------------------\u001B[0m",
      "\u001B[1;31mModuleNotFoundError\u001B[0m                       Traceback (most recent call last)",
      "Cell \u001B[1;32mIn[1], line 2\u001B[0m\n\u001B[0;32m      1\u001B[0m \u001B[38;5;28;01mfrom\u001B[39;00m \u001B[38;5;21;01marray\u001B[39;00m \u001B[38;5;28;01mimport\u001B[39;00m array\n\u001B[1;32m----> 2\u001B[0m \u001B[38;5;28;01mimport\u001B[39;00m \u001B[38;5;21;01mP201_Functions\u001B[39;00m \u001B[38;5;28;01mas\u001B[39;00m \u001B[38;5;21;01mp201\u001B[39;00m\n\u001B[0;32m      3\u001B[0m \u001B[38;5;28;01mimport\u001B[39;00m \u001B[38;5;21;01mnumpy\u001B[39;00m \u001B[38;5;28;01mas\u001B[39;00m \u001B[38;5;21;01mnp\u001B[39;00m\n\u001B[0;32m      4\u001B[0m \u001B[38;5;28;01mimport\u001B[39;00m \u001B[38;5;21;01mmath\u001B[39;00m\n",
      "\u001B[1;31mModuleNotFoundError\u001B[0m: No module named 'P201_Functions'"
     ]
    }
   ],
   "source": [
    "from array import array\n",
    "import P201_Functions as p201\n",
    "import numpy as np\n",
    "import math\n",
    "\n",
    "p201.set_dark_mode(True)\n"
   ]
  },
  {
   "cell_type": "code",
   "execution_count": null,
   "metadata": {
    "ExecuteTime": {
     "end_time": "2023-09-26T02:38:31.482858100Z",
     "start_time": "2023-09-26T02:38:31.478413200Z"
    }
   },
   "outputs": [],
   "source": [
    "# Initial Conditions\n",
    "length = 9.799 # length of pendulum in meters\n",
    "method = 2 # 1 = Euler, 2 = Verlet\n",
    "theta0 = -7.82*np.pi/180.0 # initial angle in radians\n",
    "omega = 0\n",
    "\n",
    "theta = theta0\n",
    "\n",
    "# Other constants\n",
    "gravity = 9.799 # gravitional acceleration in m/s^2\n",
    "a = 0.0 # forward acceleration of van\n",
    "g_over_L = gravity/length\n",
    "a_over_L = a/length\n",
    "\n",
    "tau = 0.00001 # timestep in seconds\n",
    "nStep = int(1/tau*102.27)\n",
    "\n",
    "Pi = math.pi"
   ]
  },
  {
   "cell_type": "code",
   "execution_count": null,
   "metadata": {
    "ExecuteTime": {
     "start_time": "2023-09-26T02:38:31.482858100Z"
    }
   },
   "outputs": [],
   "source": [
    "#accel = -g_over_L*math.sin(theta) #simple pendulum\n",
    "accel = -g_over_L*math.sin(theta) - a_over_L*math.cos(theta) #pendulum in acc. van\n",
    "theta_old = theta - omega*tau + 0.5*tau*tau*accel\n",
    "print (accel, theta, theta_old)"
   ]
  },
  {
   "cell_type": "code",
   "execution_count": null,
   "metadata": {
    "ExecuteTime": {
     "start_time": "2023-09-26T02:38:31.482858100Z"
    }
   },
   "outputs": [],
   "source": [
    "t_plot = array('d')\n",
    "th_plot = array('d')\n",
    "th_plot_corrected = array('d')\n",
    "period = array('d')\n",
    "trev = array('d')\n",
    "period_corrected = array('d')\n",
    "trev_corrected = array('d')\n"
   ]
  },
  {
   "cell_type": "code",
   "execution_count": null,
   "metadata": {
    "ExecuteTime": {
     "start_time": "2023-09-26T02:38:31.482858100Z"
    }
   },
   "outputs": [],
   "source": [
    "\n",
    "time = 0.0\n",
    "irev = 0.0\n",
    "dsum = 0.0\n",
    "\n",
    "for iStep in range(1,nStep+1):\n",
    "    t_plot.append(time)\n",
    "    th_plot.append(theta*180/Pi)\n",
    "    dsum += theta*180/Pi\n",
    "    time = time + tau\n",
    "    #accel = -g_over_L*math.sin(theta) #simple pendulum\n",
    "    accel = -g_over_L*math.sin(theta) - a_over_L*math.cos(theta) #pendulum in acc. van\n",
    "    \n",
    "    if (method == 1):\n",
    "        theta_old = theta\n",
    "        theta = theta + tau*omega\n",
    "        omega = omega + tau*accel\n",
    "    else:\n",
    "        theta_new = 2*theta - theta_old + tau*tau*accel\n",
    "        theta_old = theta\n",
    "        theta = theta_new\n",
    "    \n",
    "    if (theta*theta_old < 0):\n",
    "        print (\"Zero Crossing at time t = %f\" % time)\n",
    "        if (irev == 0):\n",
    "            time_old = time\n",
    "        else:\n",
    "            period.append(2*(time - time_old))\n",
    "            trev.append(time)\n",
    "            time_old = time\n",
    "        irev = irev + 1\n",
    "\n",
    "theta_avg = dsum/nStep\n",
    "        \n",
    "for iStep in range(1,nStep+1):\n",
    "    th_plot_corrected.append(th_plot[iStep-1]-theta_avg)\n",
    "\n",
    "time = 0.0\n",
    "irev = 0.0\n",
    "dsum = 0.0\n",
    "time_old = 0.0\n",
    "\n",
    "for iStep in range(1,nStep-1):\n",
    "    time = time + tau\n",
    "    if (th_plot_corrected[iStep+1]*th_plot_corrected[iStep] < 0):\n",
    "        print (\"Zero Crossing at time t = %f\" % time)\n",
    "        if (irev==0):\n",
    "            time_old = time\n",
    "        else:\n",
    "            period_corrected.append(2*(time - time_old))\n",
    "            trev_corrected.append(time)\n",
    "            time_old = time\n",
    "        irev = irev + 1"
   ]
  },
  {
   "cell_type": "code",
   "execution_count": null,
   "metadata": {
    "ExecuteTime": {
     "start_time": "2023-09-26T02:38:31.482858100Z"
    }
   },
   "outputs": [],
   "source": [
    "theta_avg_theory = np.arctan(-a/gravity)*180.0/np.pi\n",
    "nPeriod = int(irev - 1)\n",
    "print (\"Equilibrium Angle = %11.7f\" % theta_avg)\n",
    "print (\"Equilibrium Angle Theory = %11.7f\" % theta_avg_theory)\n",
    "print (\"Number of periods = \",nPeriod)"
   ]
  },
  {
   "cell_type": "code",
   "execution_count": null,
   "metadata": {
    "ExecuteTime": {
     "start_time": "2023-09-26T02:38:31.482858100Z"
    }
   },
   "outputs": [],
   "source": [
    "from ROOT import TCanvas\n",
    "from ROOT import TGraph, TGraphErrors\n",
    "from ROOT import gStyle\n",
    "\n",
    "xcanvas = 1000\n",
    "ycanvas = 800\n",
    "\n",
    "c1 = TCanvas( 'c1', 'Pendulum Amplitude vs. Time', 0, 0, xcanvas, ycanvas )\n",
    "c1.SetGridx()\n",
    "c1.SetGridy()\n",
    "c1.GetFrame().SetFillColor( 21 )\n",
    "c1.GetFrame().SetBorderMode(-1 )\n",
    "c1.GetFrame().SetBorderSize( 5 )\n",
    "\n",
    "c2 = TCanvas( 'c2', 'Pendulum Period vs. Time', 0, 0, xcanvas, ycanvas )\n",
    "c2.SetGridx()\n",
    "c2.SetGridy()\n",
    "c2.GetFrame().SetFillColor( 21 )\n",
    "c2.GetFrame().SetBorderMode(-1 )\n",
    "c2.GetFrame().SetBorderSize( 5 )\n",
    "\n",
    "gr = TGraph(nStep,t_plot,th_plot_corrected)\n",
    "grr = TGraph(nPeriod,trev_corrected,period_corrected)"
   ]
  },
  {
   "cell_type": "code",
   "execution_count": null,
   "metadata": {
    "ExecuteTime": {
     "start_time": "2023-09-26T02:38:31.491863100Z"
    }
   },
   "outputs": [],
   "source": [
    "gr.SetMarkerColor(4)\n",
    "grr.SetMarkerColor(4)\n",
    "gr.SetMarkerStyle(21)\n",
    "grr.SetMarkerStyle(22)\n",
    "gr.SetTitle(\"Pendulum Amplitude vs. Time\")\n",
    "gr.GetXaxis().SetTitle(\"Time\")\n",
    "gr.GetYaxis().SetTitle(\"Amplitude\")\n",
    "grr.SetTitle(\"Pendulum Period vs. Time\")\n",
    "grr.GetXaxis().SetTitle(\"Time\")\n",
    "grr.GetYaxis().SetTitle(\"Period\")\n",
    "\n",
    "c1.cd()\n",
    "gr.Draw(\"AP\")\n",
    "c1.Draw()"
   ]
  },
  {
   "cell_type": "code",
   "execution_count": null,
   "metadata": {
    "ExecuteTime": {
     "start_time": "2023-09-26T02:38:31.492688600Z"
    }
   },
   "outputs": [],
   "source": [
    "c2.cd()\n",
    "grr.Draw(\"AP\")\n",
    "c2.Draw()"
   ]
  },
  {
   "cell_type": "code",
   "execution_count": null,
   "metadata": {
    "ExecuteTime": {
     "start_time": "2023-09-26T02:38:31.492688600Z"
    }
   },
   "outputs": [],
   "source": [
    "AvePeriod = 0.0\n",
    "ErrorBar = 0.0\n",
    "for i in range(1,nPeriod+1):\n",
    "    AvePeriod = AvePeriod + period_corrected[i-1]\n",
    "AvePeriod = AvePeriod/nPeriod\n",
    "for i in range(1,nPeriod+1):\n",
    "    ErrorBar = ErrorBar + (period_corrected[i-1]-AvePeriod)*(period_corrected[i-1]-AvePeriod)\n",
    "ErrorBar = math.sqrt(ErrorBar/(nPeriod*(nPeriod-1)))\n",
    "print(\"Average Period = %f +/- %f\" % (AvePeriod,ErrorBar))\n",
    "    "
   ]
  },
  {
   "cell_type": "code",
   "execution_count": null,
   "metadata": {
    "ExecuteTime": {
     "start_time": "2023-09-26T02:38:31.492688600Z"
    }
   },
   "outputs": [],
   "source": [
    "t0=theta0\n",
    "#t_small_angle = 2.0*Pi/math.sqrt(g_over_L)\n",
    "t_small_angle = 2.0*Pi/math.sqrt(math.sqrt(gravity**2+a**2)/length)\n",
    "#t_infinite = 2.0*Pi/math.sqrt(g_over_L)*(1.0+t0*t0/16.0+math.pow(t0,4)*11.0/3072.0+math.pow(t0,6)*173.0/737280.0)\n",
    "t_infinite = t_small_angle*(1.0+t0*t0/16.0+math.pow(t0,4)*11.0/3072.0+math.pow(t0,6)*173.0/737280.0)\n",
    "#error_infinite = 2.0*Pi/math.sqrt(g_over_L)*math.pow(t0,8)*22931.0/1321205760.0\n",
    "error_infinite = t_small_angle*math.pow(t0,8)*22931.0/1321205760.0"
   ]
  },
  {
   "cell_type": "code",
   "execution_count": null,
   "metadata": {
    "ExecuteTime": {
     "start_time": "2023-09-26T02:38:31.492688600Z"
    }
   },
   "outputs": [],
   "source": [
    "print(\"Small Angle prediction = %f\" % (t_small_angle))\n",
    "print(\"Infinite series prediction = %f +/- %f\" % (t_infinite,error_infinite))"
   ]
  },
  {
   "cell_type": "code",
   "execution_count": null,
   "metadata": {
    "ExecuteTime": {
     "start_time": "2023-09-26T02:38:31.492688600Z"
    }
   },
   "outputs": [],
   "source": [
    "x = array('d')\n",
    "y = array('d')\n",
    "ex = array('d')\n",
    "ey = array('d')\n",
    "npoints = 3\n",
    "x.append(1)\n",
    "x.append(2)\n",
    "x.append(3)\n",
    "ex.append(0)\n",
    "ex.append(0)\n",
    "ex.append(0)\n",
    "y.append(AvePeriod)\n",
    "y.append(t_infinite)\n",
    "y.append(t_small_angle)\n",
    "ey.append(ErrorBar)\n",
    "ey.append(error_infinite)\n",
    "ey.append(0)\n",
    "\n",
    "c3 = TCanvas(\"c3\",\"c3\",100,0,800,600)\n",
    "gr3 = TGraphErrors(npoints,x,y,ex,ey)\n",
    "gr3.SetMarkerStyle(20)\n",
    "gr3.SetTitle(\"Theory vs. Simulation\")\n",
    "gr3.GetXaxis().SetTitle(\"1=Sim,2=Theory,3=SmallAngle\")\n",
    "gr3.GetYaxis().SetTitle(\"Average Period (s)\")\n",
    "gr3.Draw(\"AP\")\n",
    "c3.Draw()"
   ]
  },
  {
   "cell_type": "code",
   "execution_count": null,
   "metadata": {
    "ExecuteTime": {
     "end_time": "2023-09-26T02:38:31.492688600Z",
     "start_time": "2023-09-26T02:38:31.492688600Z"
    }
   },
   "outputs": [],
   "source": []
  }
 ],
 "metadata": {
  "kernelspec": {
   "display_name": "Python 3",
   "language": "python",
   "name": "python3"
  },
  "language_info": {
   "codemirror_mode": {
    "name": "ipython",
    "version": 3
   },
   "file_extension": ".py",
   "mimetype": "text/x-python",
   "name": "python",
   "nbconvert_exporter": "python",
   "pygments_lexer": "ipython3",
   "version": "3.6.8"
  },
  "latex_envs": {
   "LaTeX_envs_menu_present": true,
   "autoclose": false,
   "autocomplete": true,
   "bibliofile": "biblio.bib",
   "cite_by": "apalike",
   "current_citInitial": 1,
   "eqLabelWithNumbers": true,
   "eqNumInitial": 1,
   "hotkeys": {
    "equation": "Ctrl-E",
    "itemize": "Ctrl-I"
   },
   "labels_anchors": false,
   "latex_user_defs": false,
   "report_style_numbering": false,
   "user_envs_cfg": false
  }
 },
 "nbformat": 4,
 "nbformat_minor": 2
}
